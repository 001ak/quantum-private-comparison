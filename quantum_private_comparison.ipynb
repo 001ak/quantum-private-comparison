{
 "cells": [
  {
   "cell_type": "code",
   "execution_count": 13,
   "id": "3ee8c8d9-9d21-4092-acf4-25bbe5502993",
   "metadata": {
    "tags": []
   },
   "outputs": [],
   "source": [
    "from qiskit import QuantumCircuit, transpile, assemble\n",
    "from qiskit.visualization import plot_histogram\n",
    "from qiskit_aer import AerSimulator\n",
    "import numpy as np\n",
    "\n",
    "# Define the parameters\n",
    "f = 6\n",
    "g = 2\n",
    "m1 = 2\n",
    "m2 = 2\n",
    "w0 = 2\n",
    "# q = 8"
   ]
  },
  {
   "cell_type": "code",
   "execution_count": 14,
   "id": "7faa6b94-0ad0-4a69-b368-a2c0030aa195",
   "metadata": {
    "tags": []
   },
   "outputs": [
    {
     "name": "stdout",
     "output_type": "stream",
     "text": [
      "S:\n",
      "[[0. 0. 0. 0. 0. 0. 0. 0. 0. 0. 0. 0. 0. 0. 1. 0.]\n",
      " [0. 0. 0. 1. 0. 0. 0. 0. 0. 0. 0. 0. 0. 0. 0. 0.]\n",
      " [1. 0. 0. 0. 0. 0. 0. 0. 0. 0. 0. 0. 0. 0. 0. 0.]\n",
      " [0. 0. 0. 0. 0. 1. 0. 0. 0. 0. 0. 0. 0. 0. 0. 0.]\n",
      " [0. 0. 1. 0. 0. 0. 0. 0. 0. 0. 0. 0. 0. 0. 0. 0.]\n",
      " [0. 0. 0. 0. 0. 0. 0. 1. 0. 0. 0. 0. 0. 0. 0. 0.]\n",
      " [0. 0. 0. 0. 1. 0. 0. 0. 0. 0. 0. 0. 0. 0. 0. 0.]\n",
      " [0. 0. 0. 0. 0. 0. 0. 0. 0. 1. 0. 0. 0. 0. 0. 0.]\n",
      " [0. 0. 0. 0. 0. 0. 1. 0. 0. 0. 0. 0. 0. 0. 0. 0.]\n",
      " [0. 0. 0. 0. 0. 0. 0. 0. 0. 0. 0. 1. 0. 0. 0. 0.]\n",
      " [0. 0. 0. 0. 0. 0. 0. 0. 1. 0. 0. 0. 0. 0. 0. 0.]\n",
      " [0. 0. 0. 0. 0. 0. 0. 0. 0. 0. 0. 0. 0. 1. 0. 0.]\n",
      " [0. 0. 0. 0. 0. 0. 0. 0. 0. 0. 1. 0. 0. 0. 0. 0.]\n",
      " [0. 0. 0. 0. 0. 0. 0. 0. 0. 0. 0. 0. 0. 0. 0. 1.]\n",
      " [0. 0. 0. 0. 0. 0. 0. 0. 0. 0. 0. 0. 1. 0. 0. 0.]\n",
      " [0. 1. 0. 0. 0. 0. 0. 0. 0. 0. 0. 0. 0. 0. 0. 0.]]\n"
     ]
    }
   ],
   "source": [
    "\n",
    "# Define the position operators for the circle\n",
    "def Tm_operator(q, m):\n",
    "    Tm = np.zeros((q, q))\n",
    "    for i in range(q):\n",
    "        Tm[(i + m) % q, i] = 1\n",
    "    return Tm\n",
    "\n",
    "# Define the shift operator S\n",
    "def S_operator(q):\n",
    "    T1 = Tm_operator(q, 1)\n",
    "    T_minus_1 = Tm_operator(q, -1)\n",
    "\n",
    "    S = np.kron(T1, np.array([[1, 0], [0, 0]])) + np.kron(T_minus_1, np.array([[0, 0], [0, 1]]))\n",
    "    return S\n",
    "\n",
    "shift_operator = S_operator(q=8)\n",
    "print(\"S:\")\n",
    "print(shift_operator)"
   ]
  },
  {
   "cell_type": "code",
   "execution_count": 15,
   "id": "1e46aeaa-e4e5-42d7-8a54-6073e31525e4",
   "metadata": {
    "tags": []
   },
   "outputs": [],
   "source": [
    "# STEP 1\n",
    "\n",
    "# Create a QuantumCircuit with 4 qubits and classical bits\n",
    "qc = QuantumCircuit(4, 4)\n",
    "\n",
    "# |φ>0 = |w0>|c0>=|2>|1> = |010>|1>\n",
    "qc.x(0)\n",
    "qc.x(2)\n",
    "\n",
    "# Apply the sequence of operations f times\n",
    "for i in range(f):\n",
    "    # Apply the Hadamard gate on q0 (coin operator)\n",
    "    qc.h(0)\n",
    "    \n",
    "    # Apply the shift operator on all qubits\n",
    "    qc.unitary(shift_operator, [0, 1, 2, 3])\n",
    "\n",
    "# # Measure all qubits\n",
    "# qc.measure([0, 1, 2, 3], [0, 1, 2, 3])\n",
    "    \n",
    "# # Transpile the circuit for the target backend\n",
    "# simulator = AerSimulator()\n",
    "# qc_transpiled = transpile(qc, simulator)\n",
    "\n",
    "# # Execute the circuit and get the result\n",
    "# job = simulator.run(assemble(qc_transpiled))\n",
    "# result = job.result()\n",
    "\n",
    "# print(qc)\n",
    "\n",
    "# # Get the counts of each measurement outcome\n",
    "# counts = result.get_counts()\n",
    "# print(\"Measurement counts:\", counts)\n",
    "\n",
    "# # Plot the histogram of measurement outcomes\n",
    "# plot_histogram(counts)"
   ]
  },
  {
   "cell_type": "code",
   "execution_count": 16,
   "id": "ccbed7d4-ed04-4c4a-a128-e5f247dae466",
   "metadata": {
    "tags": []
   },
   "outputs": [
    {
     "name": "stdout",
     "output_type": "stream",
     "text": [
      "Tensor Product Matrix: (|ϕ>m1), m1 = 2\n",
      "[[0. 0. 0. 0. 0. 0. 0. 0. 0. 0. 0. 0. 1. 0. 0. 0.]\n",
      " [0. 0. 0. 0. 0. 0. 0. 0. 0. 0. 0. 0. 0. 1. 0. 0.]\n",
      " [0. 0. 0. 0. 0. 0. 0. 0. 0. 0. 0. 0. 0. 0. 1. 0.]\n",
      " [0. 0. 0. 0. 0. 0. 0. 0. 0. 0. 0. 0. 0. 0. 0. 1.]\n",
      " [1. 0. 0. 0. 0. 0. 0. 0. 0. 0. 0. 0. 0. 0. 0. 0.]\n",
      " [0. 1. 0. 0. 0. 0. 0. 0. 0. 0. 0. 0. 0. 0. 0. 0.]\n",
      " [0. 0. 1. 0. 0. 0. 0. 0. 0. 0. 0. 0. 0. 0. 0. 0.]\n",
      " [0. 0. 0. 1. 0. 0. 0. 0. 0. 0. 0. 0. 0. 0. 0. 0.]\n",
      " [0. 0. 0. 0. 1. 0. 0. 0. 0. 0. 0. 0. 0. 0. 0. 0.]\n",
      " [0. 0. 0. 0. 0. 1. 0. 0. 0. 0. 0. 0. 0. 0. 0. 0.]\n",
      " [0. 0. 0. 0. 0. 0. 1. 0. 0. 0. 0. 0. 0. 0. 0. 0.]\n",
      " [0. 0. 0. 0. 0. 0. 0. 1. 0. 0. 0. 0. 0. 0. 0. 0.]\n",
      " [0. 0. 0. 0. 0. 0. 0. 0. 1. 0. 0. 0. 0. 0. 0. 0.]\n",
      " [0. 0. 0. 0. 0. 0. 0. 0. 0. 1. 0. 0. 0. 0. 0. 0.]\n",
      " [0. 0. 0. 0. 0. 0. 0. 0. 0. 0. 1. 0. 0. 0. 0. 0.]\n",
      " [0. 0. 0. 0. 0. 0. 0. 0. 0. 0. 0. 1. 0. 0. 0. 0.]]\n"
     ]
    },
    {
     "data": {
      "text/plain": [
       "<qiskit.circuit.instructionset.InstructionSet at 0x7f907fbefe20>"
      ]
     },
     "execution_count": 16,
     "metadata": {},
     "output_type": "execute_result"
    }
   ],
   "source": [
    "# STEP 3\n",
    "\n",
    "# Define the 8x8 position operator matrix\n",
    "t_m1 = Tm_operator(8, m1)\n",
    "\n",
    "# Define the 2x2 identity matrix\n",
    "identity_matrix = np.eye(2)\n",
    "\n",
    "# Take the tensor product\n",
    "# |ϕ>m1 = Tm1 ⊗ I\n",
    "tensor_product_matrix = np.kron(t_m1, identity_matrix)\n",
    "\n",
    "print(\"Tensor Product Matrix: (|ϕ>m1), \" + \"m1 = \" + str(m1))\n",
    "print(tensor_product_matrix)\n",
    "\n",
    "\n",
    "# Apply the tensor product matrix on the quantum circuit\n",
    "qc.unitary(tensor_product_matrix, [0, 1, 2, 3])\n",
    "# # Measure all qubits\n",
    "# qc.measure([0, 1, 2, 3], [0, 1, 2, 3])\n",
    "\n",
    "# # Transpile the circuit for the target backend\n",
    "# simulator = AerSimulator()\n",
    "# qc_transpiled = transpile(qc, simulator)\n",
    "\n",
    "# # Execute the circuit and get the result\n",
    "# job = simulator.run(assemble(qc_transpiled))\n",
    "# result = job.result()\n",
    "\n",
    "# # Get the counts of each measurement outcome\n",
    "# counts = result.get_counts()\n",
    "# print(\"Measurement counts:\", counts)\n",
    "\n",
    "# # Plot the histogram of measurement outcomes\n",
    "# plot_histogram(counts)\n",
    "# # print(qc)"
   ]
  },
  {
   "cell_type": "code",
   "execution_count": 17,
   "id": "5c6e66fb-ae53-486d-ad22-7e7bfe7d6f1a",
   "metadata": {
    "tags": []
   },
   "outputs": [],
   "source": [
    "# continuation of step 3\n",
    "\n",
    "# Apply the sequence of operations g times\n",
    "for i in range(g):\n",
    "    # Apply the Hadamard gate on qubit 2 (indexed as q3)\n",
    "    qc.h(0)\n",
    "    \n",
    "    # Apply the shift operator on all qubits\n",
    "    qc.unitary(shift_operator, [0, 1, 2, 3])\n",
    "\n",
    "# # Measure all qubits\n",
    "# qc.measure([0, 1, 2, 3], [0, 1, 2, 3])\n",
    "\n",
    "# # print(qc)\n",
    "# # Transpile the circuit for the target backend\n",
    "# simulator = AerSimulator()\n",
    "# qc_transpiled = transpile(qc, simulator)\n",
    "\n",
    "# # Execute the circuit and get the result\n",
    "# job = simulator.run(assemble(qc_transpiled))\n",
    "# result = job.result()\n",
    "\n",
    "# # Get the counts of each measurement outcome\n",
    "# counts = result.get_counts()\n",
    "# print(\"Measurement counts:\", counts)\n",
    "\n",
    "# # Plot the histogram of measurement outcomes\n",
    "# plot_histogram(counts)"
   ]
  },
  {
   "cell_type": "code",
   "execution_count": 18,
   "id": "d55d7a84-0c78-4489-975f-6133920a7352",
   "metadata": {
    "tags": []
   },
   "outputs": [
    {
     "name": "stdout",
     "output_type": "stream",
     "text": [
      "Tensor Product Matrix:\n",
      "[[0. 0. 0. 0. 1. 0. 0. 0. 0. 0. 0. 0. 0. 0. 0. 0.]\n",
      " [0. 0. 0. 0. 0. 1. 0. 0. 0. 0. 0. 0. 0. 0. 0. 0.]\n",
      " [0. 0. 0. 0. 0. 0. 1. 0. 0. 0. 0. 0. 0. 0. 0. 0.]\n",
      " [0. 0. 0. 0. 0. 0. 0. 1. 0. 0. 0. 0. 0. 0. 0. 0.]\n",
      " [0. 0. 0. 0. 0. 0. 0. 0. 1. 0. 0. 0. 0. 0. 0. 0.]\n",
      " [0. 0. 0. 0. 0. 0. 0. 0. 0. 1. 0. 0. 0. 0. 0. 0.]\n",
      " [0. 0. 0. 0. 0. 0. 0. 0. 0. 0. 1. 0. 0. 0. 0. 0.]\n",
      " [0. 0. 0. 0. 0. 0. 0. 0. 0. 0. 0. 1. 0. 0. 0. 0.]\n",
      " [0. 0. 0. 0. 0. 0. 0. 0. 0. 0. 0. 0. 1. 0. 0. 0.]\n",
      " [0. 0. 0. 0. 0. 0. 0. 0. 0. 0. 0. 0. 0. 1. 0. 0.]\n",
      " [0. 0. 0. 0. 0. 0. 0. 0. 0. 0. 0. 0. 0. 0. 1. 0.]\n",
      " [0. 0. 0. 0. 0. 0. 0. 0. 0. 0. 0. 0. 0. 0. 0. 1.]\n",
      " [1. 0. 0. 0. 0. 0. 0. 0. 0. 0. 0. 0. 0. 0. 0. 0.]\n",
      " [0. 1. 0. 0. 0. 0. 0. 0. 0. 0. 0. 0. 0. 0. 0. 0.]\n",
      " [0. 0. 1. 0. 0. 0. 0. 0. 0. 0. 0. 0. 0. 0. 0. 0.]\n",
      " [0. 0. 0. 1. 0. 0. 0. 0. 0. 0. 0. 0. 0. 0. 0. 0.]]\n"
     ]
    },
    {
     "data": {
      "text/plain": [
       "<qiskit.circuit.instructionset.InstructionSet at 0x7f907fc76f80>"
      ]
     },
     "execution_count": 18,
     "metadata": {},
     "output_type": "execute_result"
    }
   ],
   "source": [
    "# Step 5 \n",
    "\n",
    "# Define the 8x8 position operator matrix\n",
    "T_minus_m2 = Tm_operator(8, -m2)\n",
    "\n",
    "# Define the 2x2 identity matrix\n",
    "identity_matrix = np.eye(2)\n",
    "\n",
    "# Take the tensor product\n",
    "# (T−m2 ⊗ I)\n",
    "tensor_product_matrix = np.kron(T_minus_m2, identity_matrix)\n",
    "\n",
    "print(\"Tensor Product Matrix:\")\n",
    "print(tensor_product_matrix)\n",
    "\n",
    "\n",
    "# Apply the tensor product matrix on the quantum circuit\n",
    "qc.unitary(tensor_product_matrix, [0, 1, 2, 3])\n",
    "# # Measure all qubits\n",
    "# qc.measure([0, 1, 2, 3], [0, 1, 2, 3])\n",
    "\n",
    "# # Transpile the circuit for the target backend\n",
    "# simulator = AerSimulator()\n",
    "# qc_transpiled = transpile(qc, simulator)\n",
    "\n",
    "# # Execute the circuit and get the result\n",
    "# job = simulator.run(assemble(qc_transpiled))\n",
    "# result = job.result()\n",
    "\n",
    "# # Get the counts of each measurement outcome\n",
    "# counts = result.get_counts()\n",
    "# print(\"Measurement counts:\", counts)\n",
    "\n",
    "# # Plot the histogram of measurement outcomes\n",
    "# plot_histogram(counts)\n",
    "# # print(qc)"
   ]
  },
  {
   "cell_type": "code",
   "execution_count": 19,
   "id": "b7b2bf00-e3c1-4a23-b398-608d9688a1ef",
   "metadata": {
    "tags": []
   },
   "outputs": [
    {
     "name": "stdout",
     "output_type": "stream",
     "text": [
      "Inverse shift operator:\n",
      "[[0. 0. 1. 0. 0. 0. 0. 0. 0. 0. 0. 0. 0. 0. 0. 0.]\n",
      " [0. 0. 0. 0. 0. 0. 0. 0. 0. 0. 0. 0. 0. 0. 0. 1.]\n",
      " [0. 0. 0. 0. 1. 0. 0. 0. 0. 0. 0. 0. 0. 0. 0. 0.]\n",
      " [0. 1. 0. 0. 0. 0. 0. 0. 0. 0. 0. 0. 0. 0. 0. 0.]\n",
      " [0. 0. 0. 0. 0. 0. 1. 0. 0. 0. 0. 0. 0. 0. 0. 0.]\n",
      " [0. 0. 0. 1. 0. 0. 0. 0. 0. 0. 0. 0. 0. 0. 0. 0.]\n",
      " [0. 0. 0. 0. 0. 0. 0. 0. 1. 0. 0. 0. 0. 0. 0. 0.]\n",
      " [0. 0. 0. 0. 0. 1. 0. 0. 0. 0. 0. 0. 0. 0. 0. 0.]\n",
      " [0. 0. 0. 0. 0. 0. 0. 0. 0. 0. 1. 0. 0. 0. 0. 0.]\n",
      " [0. 0. 0. 0. 0. 0. 0. 1. 0. 0. 0. 0. 0. 0. 0. 0.]\n",
      " [0. 0. 0. 0. 0. 0. 0. 0. 0. 0. 0. 0. 1. 0. 0. 0.]\n",
      " [0. 0. 0. 0. 0. 0. 0. 0. 0. 1. 0. 0. 0. 0. 0. 0.]\n",
      " [0. 0. 0. 0. 0. 0. 0. 0. 0. 0. 0. 0. 0. 0. 1. 0.]\n",
      " [0. 0. 0. 0. 0. 0. 0. 0. 0. 0. 0. 1. 0. 0. 0. 0.]\n",
      " [1. 0. 0. 0. 0. 0. 0. 0. 0. 0. 0. 0. 0. 0. 0. 0.]\n",
      " [0. 0. 0. 0. 0. 0. 0. 0. 0. 0. 0. 0. 0. 1. 0. 0.]]\n",
      "     ┌───┐┌───┐┌──────────┐┌───┐┌──────────┐┌───┐┌──────────┐┌───┐┌──────────┐»\n",
      "q_0: ┤ X ├┤ H ├┤0         ├┤ H ├┤0         ├┤ H ├┤0         ├┤ H ├┤0         ├»\n",
      "     └───┘└───┘│          │└───┘│          │└───┘│          │└───┘│          │»\n",
      "q_1: ──────────┤1         ├─────┤1         ├─────┤1         ├─────┤1         ├»\n",
      "     ┌───┐     │  Unitary │     │  Unitary │     │  Unitary │     │  Unitary │»\n",
      "q_2: ┤ X ├─────┤2         ├─────┤2         ├─────┤2         ├─────┤2         ├»\n",
      "     └───┘     │          │     │          │     │          │     │          │»\n",
      "q_3: ──────────┤3         ├─────┤3         ├─────┤3         ├─────┤3         ├»\n",
      "               └──────────┘     └──────────┘     └──────────┘     └──────────┘»\n",
      "c: 4/═════════════════════════════════════════════════════════════════════════»\n",
      "                                                                              »\n",
      "«     ┌───┐┌──────────┐┌───┐┌──────────┐┌──────────┐┌───┐┌──────────┐┌───┐»\n",
      "«q_0: ┤ H ├┤0         ├┤ H ├┤0         ├┤0         ├┤ H ├┤0         ├┤ H ├»\n",
      "«     └───┘│          │└───┘│          ││          │└───┘│          │└───┘»\n",
      "«q_1: ─────┤1         ├─────┤1         ├┤1         ├─────┤1         ├─────»\n",
      "«          │  Unitary │     │  Unitary ││  Unitary │     │  Unitary │     »\n",
      "«q_2: ─────┤2         ├─────┤2         ├┤2         ├─────┤2         ├─────»\n",
      "«          │          │     │          ││          │     │          │     »\n",
      "«q_3: ─────┤3         ├─────┤3         ├┤3         ├─────┤3         ├─────»\n",
      "«          └──────────┘     └──────────┘└──────────┘     └──────────┘     »\n",
      "«c: 4/════════════════════════════════════════════════════════════════════»\n",
      "«                                                                         »\n",
      "«     ┌──────────┐┌──────────┐┌──────────┐┌───┐┌──────────┐┌───┐┌──────────┐»\n",
      "«q_0: ┤0         ├┤0         ├┤0         ├┤ H ├┤0         ├┤ H ├┤0         ├»\n",
      "«     │          ││          ││          │└───┘│          │└───┘│          │»\n",
      "«q_1: ┤1         ├┤1         ├┤1         ├─────┤1         ├─────┤1         ├»\n",
      "«     │  Unitary ││  Unitary ││  Unitary │     │  Unitary │     │  Unitary │»\n",
      "«q_2: ┤2         ├┤2         ├┤2         ├─────┤2         ├─────┤2         ├»\n",
      "«     │          ││          ││          │     │          │     │          │»\n",
      "«q_3: ┤3         ├┤3         ├┤3         ├─────┤3         ├─────┤3         ├»\n",
      "«     └──────────┘└──────────┘└──────────┘     └──────────┘     └──────────┘»\n",
      "«c: 4/══════════════════════════════════════════════════════════════════════»\n",
      "«                                                                           »\n",
      "«     ┌───┐┌──────────┐┌───┐┌──────────┐┌───┐┌──────────┐┌───┐┌──────────┐┌───┐»\n",
      "«q_0: ┤ H ├┤0         ├┤ H ├┤0         ├┤ H ├┤0         ├┤ H ├┤0         ├┤ H ├»\n",
      "«     └───┘│          │└───┘│          │└───┘│          │└───┘│          │└───┘»\n",
      "«q_1: ─────┤1         ├─────┤1         ├─────┤1         ├─────┤1         ├─────»\n",
      "«          │  Unitary │     │  Unitary │     │  Unitary │     │  Unitary │     »\n",
      "«q_2: ─────┤2         ├─────┤2         ├─────┤2         ├─────┤2         ├─────»\n",
      "«          │          │     │          │     │          │     │          │     »\n",
      "«q_3: ─────┤3         ├─────┤3         ├─────┤3         ├─────┤3         ├─────»\n",
      "«          └──────────┘     └──────────┘     └──────────┘     └──────────┘     »\n",
      "«c: 4/═════════════════════════════════════════════════════════════════════════»\n",
      "«                                                                              »\n",
      "«     ┌──────────┐┌───┐      ┌─┐\n",
      "«q_0: ┤0         ├┤ H ├──────┤M├\n",
      "«     │          │└┬─┬┘      └╥┘\n",
      "«q_1: ┤1         ├─┤M├────────╫─\n",
      "«     │  Unitary │ └╥┘ ┌─┐    ║ \n",
      "«q_2: ┤2         ├──╫──┤M├────╫─\n",
      "«     │          │  ║  └╥┘┌─┐ ║ \n",
      "«q_3: ┤3         ├──╫───╫─┤M├─╫─\n",
      "«     └──────────┘  ║   ║ └╥┘ ║ \n",
      "«c: 4/══════════════╩═══╩══╩══╩═\n",
      "«                   1   2  3  0 \n",
      "Measurement counts: {'0101': 1024}\n"
     ]
    },
    {
     "name": "stderr",
     "output_type": "stream",
     "text": [
      "/tmp/ipykernel_186/2785012607.py:43: DeprecationWarning: Using a qobj for run() is deprecated as of qiskit-aer 0.9.0 and will be removed no sooner than 3 months from that release date. Transpiled circuits should now be passed directly using `backend.run(circuits, **run_options).\n",
      "  job = simulator.run(assemble(qc_transpiled))\n"
     ]
    },
    {
     "data": {
      "image/png": "[encoded data removed]",
      "text/plain": [
       "<Figure size 700x500 with 1 Axes>"
      ]
     },
     "execution_count": 19,
     "metadata": {},
     "output_type": "execute_result"
    }
   ],
   "source": [
    "# Step 7\n",
    "\n",
    "# Define the inverse shift operator S_inv\n",
    "def S_inv_operator(q):\n",
    "    T1 = Tm_operator(q, 1)\n",
    "    T_minus_1 = Tm_operator(q, -1)\n",
    "    \n",
    "    # print(\"Tm:\")\n",
    "    # print(T1)\n",
    "    # print(T_minus_1)\n",
    "    \n",
    "    S = np.kron(T_minus_1, np.array([[1, 0], [0, 0]])) + np.kron(T1, np.array([[0, 0], [0, 1]]))\n",
    "    return S\n",
    "\n",
    "inv_shift_opr = S_inv_operator(q=8)\n",
    "print(\"Inverse shift operator:\")\n",
    "print(inv_shift_opr)\n",
    "\n",
    "final = f+g\n",
    "# print(final)\n",
    "# Apply the sequence of operations f times\n",
    "for i in range(final):\n",
    "    \n",
    "    # Apply the shift operator on all qubits\n",
    "    qc.unitary(inv_shift_opr, [0, 1, 2, 3])\n",
    "    # Apply the Hadamard gate on qubit 2 (indexed as q3)\n",
    "    qc.h(0)\n",
    "    # # Measure all qubits\n",
    "    # qc.measure([0, 1, 2, 3], [0, 1, 2, 3])\n",
    "\n",
    "# Measure all qubits\n",
    "qc.measure([0, 1, 2, 3], [0, 1, 2, 3])\n",
    "\n",
    "# qc.reset(0)\n",
    "\n",
    "    \n",
    "# print(qc)\n",
    "# Transpile the circuit for the target backend\n",
    "simulator = AerSimulator()\n",
    "qc_transpiled = transpile(qc, simulator)\n",
    "\n",
    "# Execute the circuit and get the result\n",
    "job = simulator.run(assemble(qc_transpiled))\n",
    "result = job.result()\n",
    "\n",
    "print(qc)\n",
    "\n",
    "# Get a single measurement outcome\n",
    "counts = result.get_counts()\n",
    "print(\"Measurement counts:\", counts)\n",
    "# measurement_outcome = list(counts.keys())[0]  # Assuming only one key\n",
    "# print(\"Measurement outcome:\", measurement_outcome)\n",
    "plot_histogram(counts)\n",
    "\n",
    "# # Get the counts of each measurement outcome\n",
    "# counts = result.get_counts()\n",
    "# print(\"Measurement counts:\", counts)\n",
    "\n",
    "# # Plot the histogram of measurement outcomes\n",
    "# plot_histogram(counts)"
   ]
  },
  {
   "cell_type": "code",
   "execution_count": 20,
   "id": "0ab55094-1355-461d-afe4-360bfe9bfe96",
   "metadata": {
    "tags": []
   },
   "outputs": [
    {
     "name": "stdout",
     "output_type": "stream",
     "text": [
      "Final measurement: 0101\n",
      "Extracting w0: 010\n",
      "Decimal value of w0: 2\n",
      "m3: 0\n",
      "m1 = m2\n"
     ]
    }
   ],
   "source": [
    "# STEP 8\n",
    "\n",
    "q = 8\n",
    "\n",
    "# Find the key with the highest value\n",
    "# print(counts)\n",
    "max_key = max(counts, key=counts.get)\n",
    "\n",
    "print(\"Final measurement:\", max_key)\n",
    "# print(\"Value:\", counts[max_key])\n",
    "\n",
    "# Extract the first three digits of the max_key\n",
    "m3_dash_bin = max_key[:3]\n",
    "\n",
    "# Convert the first three digits to decimal\n",
    "m3_dash = int(m3_dash_bin, 2)\n",
    "\n",
    "print(\"Extracting w0:\", m3_dash_bin)\n",
    "print(\"Decimal value of w0:\", m3_dash)\n",
    "\n",
    "w0 = 2\n",
    "\n",
    "m3 = (m3_dash - w0) % q\n",
    "\n",
    "print(\"m3:\", m3)\n",
    "\n",
    "if m3 == 0:\n",
    "    print(\"m1 = m2\")\n",
    "elif m3 >= 1 and m3 <= (q - 1) / 2:\n",
    "    print(\"m1 > m2\")\n",
    "elif m3 >= (q + 1) / 2 and m3 <= q - 1:\n",
    "    print(\"m1 < m2\")\n"
   ]
  },
  {
   "cell_type": "code",
   "execution_count": null,
   "id": "4a564454-0c17-4fae-a47c-61253921aa59",
   "metadata": {},
   "outputs": [],
   "source": []
  }
 ],
 "metadata": {
  "kernelspec": {
   "display_name": "Qiskit v1.0.2 (ipykernel)",
   "language": "python",
   "name": "python3"
  },
  "language_info": {
   "codemirror_mode": {
    "name": "ipython",
    "version": 3
   },
   "file_extension": ".py",
   "mimetype": "text/x-python",
   "name": "python",
   "nbconvert_exporter": "python",
   "pygments_lexer": "ipython3",
   "version": "3.10.8"
  },
  "widgets": {
   "application/vnd.jupyter.widget-state+json": {
    "state": {},
    "version_major": 2,
    "version_minor": 0
   }
  }
 },
 "nbformat": 4,
 "nbformat_minor": 5
}
